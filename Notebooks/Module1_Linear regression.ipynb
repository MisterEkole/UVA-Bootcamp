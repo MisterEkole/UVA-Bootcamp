{
 "cells": [
  {
   "cell_type": "markdown",
   "metadata": {},
   "source": [
    "# UVA Bootcamp  February 2022\n",
    "### Linear Regression Single Variable"
   ]
  },
  {
   "cell_type": "code",
   "execution_count": 1,
   "metadata": {},
   "outputs": [],
   "source": [
    "#importing packages\n",
    "\n",
    "import numpy as np\n",
    "import pandas as pd\n",
    "from sklearn.linear_model import LinearRegression\n",
    "\n",
    "import matplotlib.pyplot as plt"
   ]
  },
  {
   "cell_type": "code",
   "execution_count": 12,
   "metadata": {},
   "outputs": [],
   "source": [
    "#Load data\n",
    "data= pd.read_csv(\"D:/Dev Projects/AI_Projects/UVA Bootcamp/data/linear.csv\")\n",
    "\n",
    "#remove rows with Nan in them\n",
    "\n",
    "ft_data= data[~np.isnan(data[\"y\"])]\n",
    "\n",
    "\n",
    "dt_arr= np.array(ft_data)\n",
    "\n",
    "x,y= dt_arr[:,0], dt_arr[:,1]\n"
   ]
  },
  {
   "cell_type": "code",
   "execution_count": 13,
   "metadata": {},
   "outputs": [],
   "source": [
    "#reshaping the data\n",
    "\n",
    "x,y= x.reshape(-1,1), y.reshape(-1,1)\n",
    "\n",
    "\n",
    "l_regression= LinearRegression()\n",
    "\n",
    "#fitting linear model to data\n",
    "\n",
    "l_regression.fit(x,y)\n",
    "\n",
    "#generate slope of fitted line\n",
    "\n",
    "theta_one= l_regression.coef_\n",
    "\n",
    "#generate y-intecept of line\n",
    "theta_two= l_regression.intercept_\n",
    "\n"
   ]
  },
  {
   "cell_type": "code",
   "execution_count": 14,
   "metadata": {},
   "outputs": [],
   "source": [
    "#get predictions for original values of x\n",
    "\n",
    "predictions= l_regression.predict(x)\n",
    "\n"
   ]
  },
  {
   "cell_type": "code",
   "execution_count": 15,
   "metadata": {},
   "outputs": [
    {
     "name": "stdout",
     "output_type": "stream",
     "text": [
      "formula : h(x)= [[1.5831968]]x0 +[4.4701969]  x1\n"
     ]
    }
   ],
   "source": [
    "print('formula : h(x)= '+str(theta_one)+'x0 +' + str(theta_two)+'  x1')"
   ]
  },
  {
   "cell_type": "code",
   "execution_count": 16,
   "metadata": {},
   "outputs": [
    {
     "data": {
      "image/png": "[encoded data removed]",
      "text/plain": [
       "<Figure size 432x288 with 1 Axes>"
      ]
     },
     "metadata": {
      "needs_background": "light"
     },
     "output_type": "display_data"
    }
   ],
   "source": [
    "plt.scatter(x, y, color='orange')\n",
    "\n",
    "plt.plot(x, predictions, color='blue', linewidth=3)\n",
    "plt.show()"
   ]
  },
  {
   "cell_type": "code",
   "execution_count": null,
   "metadata": {},
   "outputs": [],
   "source": []
  }
 ],
 "metadata": {
  "interpreter": {
   "hash": "c665350156eabd990feb1e968b8d1a10f489d6206cd46e13f7f6c15c0612df4c"
  },
  "kernelspec": {
   "display_name": "Python 3.8.11 64-bit ('ekole': conda)",
   "name": "python3"
  },
  "language_info": {
   "codemirror_mode": {
    "name": "ipython",
    "version": 3
   },
   "file_extension": ".py",
   "mimetype": "text/x-python",
   "name": "python",
   "nbconvert_exporter": "python",
   "pygments_lexer": "ipython3",
   "version": "3.8.11"
  },
  "orig_nbformat": 4
 },
 "nbformat": 4,
 "nbformat_minor": 2
}
